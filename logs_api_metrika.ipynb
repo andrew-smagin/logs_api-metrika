{
 "cells": [
  {
   "cell_type": "code",
   "execution_count": 1,
   "metadata": {},
   "outputs": [],
   "source": [
    "import pandas as pd\n",
    "import requests\n",
    "from time import sleep\n",
    "import os"
   ]
  },
  {
   "cell_type": "code",
   "execution_count": 3,
   "metadata": {},
   "outputs": [],
   "source": [
    "# token and counter id for log request\n",
    "token = ''\n",
    "Authorization = 'OAuth ' + token\n",
    "counterId = ''\n",
    "\n",
    "# params of log request\n",
    "params = {\n",
    "    ...\n",
    "}"
   ]
  },
  {
   "cell_type": "code",
   "execution_count": null,
   "metadata": {},
   "outputs": [],
   "source": [
    "# step 1: evaluating the possibility of creating a request\n",
    "# https://yandex.ru/dev/metrika/doc/api2/logs/queries/evaluate.html\n",
    "url = f'https://api-metrika.yandex.net/management/v1/counter/{counterId}/logrequests/evaluate'\n",
    "r = requests.get(url, params=params, headers={'Authorization': Authorization})\n",
    "r.json()"
   ]
  },
  {
   "cell_type": "code",
   "execution_count": null,
   "metadata": {},
   "outputs": [],
   "source": [
    "# step 2: create log request\n",
    "# https://yandex.ru/dev/metrika/doc/api2/logs/queries/createlogrequest.html\n",
    "\n",
    "url = f'https://api-metrika.yandex.net/management/v1/counter/{counterId}/logrequests'\n",
    "r = requests.post(url, params=params, headers={'Authorization': Authorization})\n",
    "if r.status_code == 200:\n",
    "    print(f'Код ответа: {r.status_code}')\n",
    "    print('Содержимое ответа:')\n",
    "    print(r.json())\n",
    "    request_id = str(r.json().get('log_request').get('request_id'))\n",
    "else:\n",
    "    print(f'Код ответа: {r.status_code}')\n",
    "    print(r.json())"
   ]
  },
  {
   "cell_type": "code",
   "execution_count": 43,
   "metadata": {},
   "outputs": [
    {
     "name": "stdout",
     "output_type": "stream",
     "text": [
      "status: processed\n"
     ]
    }
   ],
   "source": [
    "# step 3: get info about log request\n",
    "# https://yandex.ru/dev/metrika/doc/api2/logs/queries/getlogrequest.html \n",
    "try:\n",
    "    while True:\n",
    "        url = f'https://api-metrika.yandex.net/management/v1/counter/{counterId}/logrequest/{request_id}'\n",
    "        r = requests.get(url, headers={'Authorization': Authorization})\n",
    "        if r.json().get('log_request').get('status') == 'processed':\n",
    "            print('status:', r.json().get('log_request').get('status'))\n",
    "            print(r.json())\n",
    "            break\n",
    "        sleep(20)\n",
    "except Exception:\n",
    "    print(Exception)"
   ]
  },
  {
   "cell_type": "code",
   "execution_count": null,
   "metadata": {},
   "outputs": [],
   "source": [
    "# step 4: download data\n",
    "# https://yandex.ru/dev/metrika/doc/api2/logs/queries/download.html\n",
    "\n",
    "try:\n",
    "    dfs = []\n",
    "    for part in r.json().get('log_request').get('parts'):\n",
    "        part_number = part.get('part_number')\n",
    "        url = f'https://api-metrika.yandex.net/management/v1/counter/{counterId}/logrequest/{request_id}/part/{part_number}/download'\n",
    "        r = requests.get(url, headers={'Authorization': Authorization})\n",
    "        load_data = r.text\n",
    "        df = pd.DataFrame([x.split('\\t') for x in load_data.split('\\n')])\n",
    "        df.columns = list(df.iloc[0])\n",
    "        df = df.drop(0)\n",
    "        dfs.append(df)\n",
    "    data = pd.concat(dfs)\n",
    "except Exception as e:\n",
    "    print(Exception)\n",
    "\n",
    "display(data.info())\n",
    "data.head()"
   ]
  },
  {
   "cell_type": "markdown",
   "metadata": {},
   "source": []
  }
 ],
 "metadata": {
  "kernelspec": {
   "display_name": "Python 3.9.6 64-bit",
   "language": "python",
   "name": "python3"
  },
  "language_info": {
   "codemirror_mode": {
    "name": "ipython",
    "version": 3
   },
   "file_extension": ".py",
   "mimetype": "text/x-python",
   "name": "python",
   "nbconvert_exporter": "python",
   "pygments_lexer": "ipython3",
   "version": "3.9.6"
  },
  "orig_nbformat": 4,
  "vscode": {
   "interpreter": {
    "hash": "76a6f47c5748a1a997e2305cc6e1b9163269a6484ab277f9baac8f3be7bd9034"
   }
  }
 },
 "nbformat": 4,
 "nbformat_minor": 2
}
